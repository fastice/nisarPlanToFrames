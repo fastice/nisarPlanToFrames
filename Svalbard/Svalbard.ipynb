{
 "cells": [
  {
   "cell_type": "markdown",
   "id": "c2ba5c5d-454b-4da4-b575-0e651a958b27",
   "metadata": {},
   "source": [
    "# Merge Track Frame and Mission Plan for an Svalbard Cycle 19\n",
    "---"
   ]
  },
  {
   "cell_type": "markdown",
   "id": "12107639-5137-47b3-8f28-c1265cacc726",
   "metadata": {},
   "source": [
    "This notebook will read all the data from a kmz for a cycle and save the results a gpkg.  It also take this plan an intersect it with the track frame data base so the frame show the actual extent of the data aquisition, including short frames and 80MHz half-width frames."
   ]
  },
  {
   "cell_type": "code",
   "execution_count": 1,
   "id": "4b8bbba6-62e7-4561-ac2c-c843e549b579",
   "metadata": {},
   "outputs": [],
   "source": [
    "import geopandas as gpd\n",
    "import pandas as pd\n",
    "import fiona\n",
    "from matplotlib import pyplot as plt\n",
    "import shapely\n",
    "from shapely.geometry import Polygon, MultiPolygon\n",
    "import numpy as np\n",
    "fiona.drvsupport.supported_drivers['LIBKML'] = 'rw'\n",
    "from datetime import datetime\n",
    "import pytz\n",
    "from subprocess import call\n",
    "import os"
   ]
  },
  {
   "cell_type": "markdown",
   "id": "4b982874-bcfe-4857-9865-0388d65d3527",
   "metadata": {},
   "source": [
    "## Support Functions"
   ]
  },
  {
   "cell_type": "code",
   "execution_count": 2,
   "id": "e4fbf205-6981-49e2-aa71-7de4dc285ff6",
   "metadata": {},
   "outputs": [],
   "source": [
    "def computeTrack(myTime):\n",
    "    '''\n",
    "    Use time to compute track. Needs fine tuning near equator.\n",
    "    '''\n",
    "    secsCycle = 12. * 86400.\n",
    "    track = ((myTime.timestamp() + 3100 + 25160 ) % secsCycle)/secsCycle * 173\n",
    "    track = (track - 141) % 173\n",
    "    frame = (track-int(track))*176\n",
    "    #print(track, frame)\n",
    "    return int(track)\n",
    "\n",
    "def getMode(obsFile, layer, mode, direction, tMin=0, tMax=3600, bbox=(9, 75, 28,90)):\n",
    "    '''\n",
    "    Pull the rows for a layer (in kml file), mode (mode number), direction (ascending/descending).\n",
    "    Optionally select only those data takes with a duration defined by tMin and tMax. \n",
    "    Filter geographically with bbox. \n",
    "    '''\n",
    "    # Layer names contain direction\n",
    "    if direction in layer and mode in layer:\n",
    "        # read kml for specfied layer\n",
    "        gdf = gpd.read_file(obsFile, bbox=bbox, drivers='LIBKML', layer=layer)\n",
    "        # Only proceed if ther is data\n",
    "        if gdf.shape[0] <= 0:\n",
    "            return None\n",
    "        # Compute data take duration and filter by duration\n",
    "        gdf['deltaT'] = (gdf['end'] - gdf['begin']).apply(pd.Timedelta.total_seconds)\n",
    "        tkeep = (gdf['deltaT'] > tMin) & (gdf['deltaT'] <= tMax)\n",
    "        gdf = gdf[tkeep]\n",
    "        # Compute the track number\n",
    "        gdf['track'] = gdf['begin'].apply(computeTrack)\n",
    "        gdf['mode'] = mode\n",
    "        # reset indices to reflect order in frame\n",
    "        gdf.reset_index(drop=True, inplace=True)\n",
    "        print(f'M{mode} {gdf.shape[0]}', end=' ')\n",
    "        if gdf.shape[0] > 0: \n",
    "            return gdf \n",
    "    return None"
   ]
  },
  {
   "cell_type": "code",
   "execution_count": 8,
   "id": "6b6347be-6e75-42db-bd42-1ec31c293a0c",
   "metadata": {},
   "outputs": [],
   "source": [
    "def getDataTakes(cycle, direction, bw, bbox=(-180, 58, 180, 90), saveToFile=True, tMin=0, tMax=3600, fileNameBase='Svalbard'): \n",
    "    '''\n",
    "    Get all the data takes for a cycle (cycle number) with a given direction (ascending/descending).\n",
    "    if saveToFile, then save to file with fileNameBase_bwMHz.Direction.cycleN.tMin.tMax.gpkg.\n",
    "    '''\n",
    "    obsFile = f'../observations/MPREFOBS349_qvis_cycle{cycle:03d}_230509.kml'\n",
    "    # All L-band data modes for given BWs\n",
    "    bwModes = {'80': ['150', '220', '246'],\n",
    "               '40': ['151', '156', '223', '237', '238', '242', '247'],\n",
    "               '20': ['148', '152', '215', '239', '241', '242'],\n",
    "               '5': ['153', '232', '219', '218', '214' ]}\n",
    "    modes = bwModes[str(bw)]\n",
    "    print(obsFile)\n",
    "    gdfs = []\n",
    "    with open(obsFile, 'rb') as fp:\n",
    "        for layer in fiona.listlayers(fp):\n",
    "            for mode in modes:\n",
    "                gdf = getMode(obsFile, layer, mode, direction, tMin=tMin, tMax=tMax)\n",
    "                if gdf is not None:\n",
    "                    gdf['bandwidth'] = bw\n",
    "                    gdfs.append(gdf)\n",
    "    if len(gdfs) == 0:\n",
    "        return None\n",
    "    allData = gpd.GeoDataFrame(pd.concat(gdfs))\n",
    "    # Get rid of invalid timestamps so the results can be saved\n",
    "    allData.drop('timestamp', inplace=True, axis=1)\n",
    "    # Reset index to reflect current row order\n",
    "    allData.reset_index(drop=True, inplace=True)\n",
    "    # save if requested\n",
    "    if saveToFile:\n",
    "        shortDirection = {'ascending': 'Asc', 'descending': 'Desc'}[direction]\n",
    "        allData.to_file(f'./{fileNameBase}_{bw}MHz.{shortDirection}.{cycle:03d}.{tMin}.{tMax}.gpkg')\n",
    "    return allData"
   ]
  },
  {
   "cell_type": "code",
   "execution_count": 9,
   "id": "85b90c18-4210-429e-934c-393b0035468b",
   "metadata": {},
   "outputs": [],
   "source": [
    "def mergePoly(myGeometry):\n",
    "    ''' \n",
    "    Merge multipilygons. These appear to occur where a frame straddles the -180, 180 transition. \n",
    "    Update the <-180 values with +360, to produce continue > 180 values. Then merge the polygons.\n",
    "    '''\n",
    "    # Single polygon in the Multipolygon, the return it\n",
    "    if len(myGeometry.geoms) == 1:\n",
    "        return list(myGeometry.geoms)[0]\n",
    "    # Loop through multipolygons and fix coordinates.\n",
    "    polygons = []\n",
    "    for poly in myGeometry.geoms:\n",
    "        x, y = np.array(poly.exterior.xy)\n",
    "        x[x < 0.] = x[x < 0.] + 360\n",
    "        newPoly = Polygon(zip(x,y))\n",
    "        polygons.append(newPoly)\n",
    "    # merge the result\n",
    "    merged = shapely.ops.unary_union(MultiPolygon(polygons))\n",
    "    # If not merged discard\n",
    "    if merged.geom_type == 'MultiPolygon':\n",
    "        print(merged)\n",
    "        return None\n",
    "    return merged"
   ]
  },
  {
   "cell_type": "code",
   "execution_count": 10,
   "id": "64d55362-06e4-4226-be58-00dd4118ee4e",
   "metadata": {},
   "outputs": [],
   "source": [
    "def intersectFrameAndSwath(swath, frame):\n",
    "    ''' \n",
    "    Take a swath row from the acquisition plan and a frame row from the track frame data base\n",
    "    and find the intersection. Return an updated from with the geometry for just the area acquired\n",
    "    '''\n",
    "    oldGeometry = frame['geometry']\n",
    "    newGeometry = swath['geometry'].intersection(oldGeometry)\n",
    "    if newGeometry.geom_type == 'MultiPolygon':\n",
    "        newGeometry = mergePoly(newGeometry)\n",
    "        if newGeometry is None:\n",
    "            return None\n",
    "    frame['geometry'] = newGeometry\n",
    "    areaCoverage = newGeometry.area/oldGeometry.area\n",
    "    if swath['bandwidth'] == 80:\n",
    "        areaCoverage /= 0.469\n",
    "    frame['coverage'] = areaCoverage\n",
    "    frame['mode'] = swath['mode']\n",
    "    return frame\n"
   ]
  },
  {
   "cell_type": "markdown",
   "id": "1d178545-868b-43c6-bae3-26e903b4e559",
   "metadata": {},
   "source": [
    "## Load KMLs"
   ]
  },
  {
   "cell_type": "markdown",
   "id": "b1f5bfba-f76b-411a-a90d-227e4e767d20",
   "metadata": {},
   "source": [
    "Convert kmz to kml."
   ]
  },
  {
   "cell_type": "code",
   "execution_count": 11,
   "id": "25306de2-fd5f-4c8d-badc-edbf5b21d16f",
   "metadata": {},
   "outputs": [
    {
     "name": "stdout",
     "output_type": "stream",
     "text": [
      "Archive:  MPREFOBS349_qvis_cycle019_230509.kmz\n",
      "  inflating: solution_obs_best.kml   \n",
      "-rw-rw-r-- 1 ian ian 10304276 May  9 11:56 ../observations/MPREFOBS349_qvis_cycle019_230509.kml\n"
     ]
    }
   ],
   "source": [
    "cycle = 19\n",
    "myKML = f'MPREFOBS349_qvis_cycle{cycle:03d}_230509.kml'\n",
    "if not os.path.exists(f'observations/{myKML}'):\n",
    "    call(f'cd ../observations; unzip {myKML.replace(\"kml\", \"kmz\")}; mv solution_obs_best.kml {myKML}', shell=True)\n",
    "    !ls -l ../observations/MPREFOBS349_qvis_cycle019_230509.kml"
   ]
  },
  {
   "cell_type": "markdown",
   "id": "d501523e-2fa3-4d6d-8811-ebfc84faa835",
   "metadata": {},
   "source": [
    "Read KMLs and convert to geopkgs. Seperate into short (<=8s) and long (>8s) data takes."
   ]
  },
  {
   "cell_type": "code",
   "execution_count": 15,
   "id": "138e6f35-c1ea-4cf7-89e6-8a03761f78f5",
   "metadata": {},
   "outputs": [
    {
     "name": "stdout",
     "output_type": "stream",
     "text": [
      "5\n",
      "../observations/MPREFOBS349_qvis_cycle019_230509.kml\n",
      "M153 23 ../observations/MPREFOBS349_qvis_cycle019_230509.kml\n",
      "M153 25 ../observations/MPREFOBS349_qvis_cycle019_230509.kml\n",
      "M153 23 ../observations/MPREFOBS349_qvis_cycle019_230509.kml\n",
      "M153 24 ../observations/MPREFOBS349_qvis_cycle019_230509.kml\n",
      "M153 0 ../observations/MPREFOBS349_qvis_cycle019_230509.kml\n",
      "M153 1 20\n",
      "../observations/MPREFOBS349_qvis_cycle019_230509.kml\n",
      "M148 1 ../observations/MPREFOBS349_qvis_cycle019_230509.kml\n",
      "../observations/MPREFOBS349_qvis_cycle019_230509.kml\n",
      "M148 1 ../observations/MPREFOBS349_qvis_cycle019_230509.kml\n",
      "../observations/MPREFOBS349_qvis_cycle019_230509.kml\n",
      "M148 0 ../observations/MPREFOBS349_qvis_cycle019_230509.kml\n",
      "40\n",
      "../observations/MPREFOBS349_qvis_cycle019_230509.kml\n",
      "../observations/MPREFOBS349_qvis_cycle019_230509.kml\n",
      "../observations/MPREFOBS349_qvis_cycle019_230509.kml\n",
      "../observations/MPREFOBS349_qvis_cycle019_230509.kml\n",
      "../observations/MPREFOBS349_qvis_cycle019_230509.kml\n",
      "../observations/MPREFOBS349_qvis_cycle019_230509.kml\n",
      "80\n",
      "../observations/MPREFOBS349_qvis_cycle019_230509.kml\n",
      "../observations/MPREFOBS349_qvis_cycle019_230509.kml\n",
      "../observations/MPREFOBS349_qvis_cycle019_230509.kml\n",
      "../observations/MPREFOBS349_qvis_cycle019_230509.kml\n",
      "../observations/MPREFOBS349_qvis_cycle019_230509.kml\n",
      "../observations/MPREFOBS349_qvis_cycle019_230509.kml\n"
     ]
    }
   ],
   "source": [
    "dfs =  {}\n",
    "#\n",
    "fileNameBase = 'Svalbard'\n",
    "bbox = (-180,58, 180, 90)\n",
    "for bw in [5, 20, 40, 80]:\n",
    "    print(bw)\n",
    "    dfs[f'Asc{bw}All'] = getDataTakes(cycle, 'ascending', bw, bbox=bbox, saveToFile=True, tMin=0, tMax=3600, fileNameBase=fileNameBase);\n",
    "    dfs[f'Desc{bw}All']  = getDataTakes(cycle, 'descending', bw, bbox=bbox, saveToFile=True, tMin=0, tMax=3600, fileNameBase=fileNameBase);\n",
    "    dfs[f'Asc{bw}Long'] = getDataTakes(cycle, 'ascending', bw, bbox=bbox, saveToFile=True, tMin=8, tMax=3600, fileNameBase=fileNameBase);\n",
    "    dfs[f'Desc{bw}Long'] = getDataTakes(cycle, 'descending', bw, bbox=bbox, saveToFile=True, tMin=8, tMax=3600, fileNameBase=fileNameBase);\n",
    "    dfs[f'Asc{bw}Short'] = getDataTakes(cycle, 'ascending', bw, bbox=bbox, saveToFile=True, tMin=0, tMax=8, fileNameBase=fileNameBase);\n",
    "    dfs[f'Desc{bw}Short'] = getDataTakes(cycle, 'descending', bw, bbox=bbox, saveToFile=True, tMin=0, tMax=8, fileNameBase=fileNameBase);"
   ]
  },
  {
   "cell_type": "code",
   "execution_count": 17,
   "id": "09e1711c-0a88-4ac4-84ed-f7d3e6824877",
   "metadata": {},
   "outputs": [
    {
     "name": "stdout",
     "output_type": "stream",
     "text": [
      "../observations/MPREFOBS349_qvis_cycle019_230509.kml\n"
     ]
    }
   ],
   "source": [
    "!ls ../observations/MPREFOBS349_qvis_cycle019_230509.kml"
   ]
  },
  {
   "cell_type": "markdown",
   "id": "69fc6668-faa7-4cfb-aaad-eafe93918c09",
   "metadata": {},
   "source": [
    "## Read Track-Frame"
   ]
  },
  {
   "cell_type": "markdown",
   "id": "88472c7c-b173-488c-8063-e155e02d628a",
   "metadata": {},
   "source": [
    "Read track frame data base and fix frames that straddle $\\pm$180."
   ]
  },
  {
   "cell_type": "code",
   "execution_count": 19,
   "id": "011a9e25-0c8c-45db-9f2e-d80905cb567b",
   "metadata": {},
   "outputs": [],
   "source": [
    "TF = gpd.read_file('../track-frame/MPREFOBS349_qvis_cycle019.gpkg', bbox=bbox)\n",
    "TFall = gpd.read_file('../track-frame/MPREFOBS349_qvis_cycle019.gpkg')\n",
    "TF['geometry'] = TF['geometry'].apply(mergePoly)"
   ]
  },
  {
   "cell_type": "code",
   "execution_count": null,
   "id": "8e1d0280-26e3-4232-ae53-68b3ab21b31c",
   "metadata": {},
   "outputs": [],
   "source": []
  },
  {
   "cell_type": "markdown",
   "id": "644b8a83-9ba4-44da-ade0-34315fdbf5fb",
   "metadata": {},
   "source": [
    "# Intersect Mission Plan with Track Frame"
   ]
  },
  {
   "cell_type": "markdown",
   "id": "10000e4d-cc63-483f-a98b-538b8ec468f2",
   "metadata": {},
   "source": [
    "This step intersects the mission plan with the track frames and saves frame geometry that corresponds to the area actually acquired.\n",
    "Note this step conversts data to 3413 to do the intersections and then back to 4326, which avoids problems with crossing the $\\pm$180 boundary."
   ]
  },
  {
   "cell_type": "code",
   "execution_count": 32,
   "id": "a7be0384-de36-4917-8a3f-651ab1b008f9",
   "metadata": {},
   "outputs": [
    {
     "name": "stdout",
     "output_type": "stream",
     "text": [
      "CPU times: user 7.47 s, sys: 104 ms, total: 7.57 s\n",
      "Wall time: 7.74 s\n"
     ]
    }
   ],
   "source": [
    "%%time\n",
    "i=0\n",
    "for mode in ['Asc5All', 'Desc5All', 'Asc20All', 'Desc20All']:\n",
    "    swaths = dfs[mode]\n",
    "    if swaths is None:\n",
    "        continue\n",
    "    correctedFrames = []\n",
    "    for track in range(1, 174):\n",
    "        TFTrack = TF[TF['track'] == track].to_crs(epsg=3413)\n",
    "        swathsTrack = swaths[swaths['track'] == track].to_crs(epsg=3413)\n",
    "        #\n",
    "        for swath in swathsTrack.iterrows():\n",
    "            # Get the frames that intersect the swath\n",
    "            frames = TFTrack[TFTrack.intersects(swath[1]['geometry'])]\n",
    "            # Intersect swath with frames\n",
    "            for frame in frames.iterrows():\n",
    "                #print(swath)\n",
    "                correctedFrame = intersectFrameAndSwath(swath[1], frame[1])\n",
    "                i +=1\n",
    "                if correctedFrame is not None:\n",
    "                    correctedFrames.append(correctedFrame)\n",
    "    framedPlan = gpd.GeoDataFrame(pd.concat(correctedFrames, axis=1).transpose(), crs=\"EPSG:3413\").to_crs(epsg=4236)\n",
    "    framedPlan.reset_index(drop=True, inplace=True)\n",
    "    framedPlan.to_file(f'./{mode}.{cycle:03d}.Framed.gpkg')\n",
    "#X = framedPlan.to_crs(epsg=3413)\n",
    "\n"
   ]
  },
  {
   "cell_type": "code",
   "execution_count": 33,
   "id": "afb94ae7-cf11-4b89-9baf-65f30672bf85",
   "metadata": {},
   "outputs": [
    {
     "data": {
      "text/plain": [
       "geopandas.geodataframe.GeoDataFrame"
      ]
     },
     "execution_count": 33,
     "metadata": {},
     "output_type": "execute_result"
    },
    {
     "data": {
      "image/png": "[encoded data removed]",
      "text/plain": [
       "<Figure size 864x864 with 1 Axes>"
      ]
     },
     "metadata": {
      "needs_background": "light"
     },
     "output_type": "display_data"
    }
   ],
   "source": [
    "fig, ax = plt.subplots(figsize=(12,12))\n",
    "for row in framedPlan.to_crs(epsg=3413).iterrows():\n",
    "    #print(row)\n",
    "    if row[1]['coverage'] < 0.15:\n",
    "        ax.plot(*row[1]['geometry'].exterior.xy, color='k')\n",
    "    else:\n",
    "        ax.plot(*row[1]['geometry'].exterior.xy, color='r')\n",
    "type(framedPlan)"
   ]
  },
  {
   "cell_type": "code",
   "execution_count": null,
   "id": "313b2b8e-9912-43f2-8cc7-06aa47bd8551",
   "metadata": {},
   "outputs": [],
   "source": []
  }
 ],
 "metadata": {
  "kernelspec": {
   "display_name": "Python 3",
   "language": "python",
   "name": "python3"
  },
  "language_info": {
   "codemirror_mode": {
    "name": "ipython",
    "version": 3
   },
   "file_extension": ".py",
   "mimetype": "text/x-python",
   "name": "python",
   "nbconvert_exporter": "python",
   "pygments_lexer": "ipython3",
   "version": "3.9.13"
  }
 },
 "nbformat": 4,
 "nbformat_minor": 5
}
